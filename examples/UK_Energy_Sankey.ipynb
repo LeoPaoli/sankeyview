{
 "cells": [
  {
   "cell_type": "markdown",
   "metadata": {},
   "source": [
    "## Draw Sankey of UK Energy System"
   ]
  },
  {
   "cell_type": "markdown",
   "metadata": {},
   "source": [
    "The first step involves importing all the necessary packages to crete the Sankey"
   ]
  },
  {
   "cell_type": "code",
   "execution_count": 1,
   "metadata": {
    "collapsed": false
   },
   "outputs": [],
   "source": [
    "import pandas as pd\n",
    "from sankeyview import *\n",
    "from sankeyview.jupyter import show_sankey\n",
    "#from trace_sankey_helpers import show_sample, show_variance, flows_from_trace #, show_sankey"
   ]
  },
  {
   "cell_type": "code",
   "execution_count": null,
   "metadata": {
    "collapsed": true
   },
   "outputs": [],
   "source": []
  },
  {
   "cell_type": "markdown",
   "metadata": {},
   "source": [
    "Then we proceed to load the data that we want to draw. In one worksheet we have all the flows, while in the other worksheet we have information about each process in the diagram."
   ]
  },
  {
   "cell_type": "code",
   "execution_count": 3,
   "metadata": {
    "collapsed": false
   },
   "outputs": [],
   "source": [
    "FILENAME = './UK_Energy_Sankey_data.xlsx'\n",
    "processes = pd.read_excel(FILENAME, sheetname='Processes', index_col=0)\n",
    "flows = pd.read_excel(FILENAME, sheetname='Flows')\n"
   ]
  },
  {
   "cell_type": "markdown",
   "metadata": {
    "collapsed": false
   },
   "source": [
    "We need to make sure that there is no repetition of flows in the data. Therefore we group and sum all flows."
   ]
  },
  {
   "cell_type": "code",
   "execution_count": 7,
   "metadata": {
    "collapsed": false
   },
   "outputs": [],
   "source": [
    "flows = flows.groupby(['source', 'target', 'type'], as_index=False).sum()"
   ]
  },
  {
   "cell_type": "markdown",
   "metadata": {},
   "source": [
    "We now create the variable which will be used to plot the diagram"
   ]
  },
  {
   "cell_type": "code",
   "execution_count": 8,
   "metadata": {
    "collapsed": false
   },
   "outputs": [],
   "source": [
    "dataset = Dataset(flows, dim_process=processes)"
   ]
  },
  {
   "cell_type": "markdown",
   "metadata": {},
   "source": [
    "Here we should write down how we want to group each layer of the diagram. This is important also to establish in which order do we the flows to appear. The source grouping is already written down. Try to write one for the end-uses"
   ]
  },
  {
   "cell_type": "code",
   "execution_count": 6,
   "metadata": {
    "collapsed": false
   },
   "outputs": [],
   "source": [
    "source_grouping = Partition.Simple(\n",
    "    'process',\n",
    "    ['Gas',\n",
    "    'Liquid fuel',\n",
    "    'Coal',\n",
    "    'Nuclear',\n",
    "    'Solid biomass & Waste',\n",
    "    'Renewable',\n",
    "    'Primary Electricity',\n",
    "    'Heat',\n",
    "    'Electricity'\n",
    "])\n",
    "\n"
   ]
  },
  {
   "cell_type": "markdown",
   "metadata": {},
   "source": [
    "Here is where we define the nodes and the bundles of the diagram. Essentially we tell the program the names of the nodes, then we tell it in what order they should come (from left to right), then we tell the program from where to where the flows should go.\n",
    "\n",
    "The information about the \"Level\" is contained in the processes worksheet. "
   ]
  },
  {
   "cell_type": "code",
   "execution_count": 13,
   "metadata": {
    "collapsed": false
   },
   "outputs": [],
   "source": [
    "\n",
    "default_grouping =  Partition.Simple('process', processes.index.values)\n",
    "\n",
    "\n",
    "nodes = {\n",
    "    'inputs':           ProcessGroup(selection=\"Level == 1\", partition=source_grouping),\n",
    "    'Power Plants':     ProcessGroup(selection=\"Level == 11\",partition=default_grouping ),\n",
    "    'Devices':          ProcessGroup(selection='Level == 2', partition=default_grouping),\n",
    "    'Useful':           ProcessGroup(selection='Level == 3', partition=default_grouping) \n",
    "}\n",
    "# Nota Bene\n",
    "# You sould change the default grouping option once you \n",
    "# have written out the grouping options for each layer!\n",
    "\n",
    "order = [\n",
    "    ['inputs'],\n",
    "    ['Power Plants'],\n",
    "    ['Devices'],\n",
    "    ['Useful']\n",
    "]\n",
    "\n",
    "bundles = [\n",
    "    Bundle('inputs', 'Devices'),\n",
    "    Bundle('inputs', 'Power Plants'),\n",
    "    Bundle('Power Plants', 'Devices'),\n",
    "    Bundle('Power Plants', 'Useful'),\n",
    "    Bundle('Devices','Useful')\n",
    "]\n"
   ]
  },
  {
   "cell_type": "markdown",
   "metadata": {},
   "source": [
    "Once all this information is provided, we can compile the variable which generates the structure of the Sankey."
   ]
  },
  {
   "cell_type": "code",
   "execution_count": 10,
   "metadata": {
    "collapsed": true
   },
   "outputs": [],
   "source": [
    "vd = SankeyDefinition(nodes, bundles, order,flow_partition= dataset.partition('type'))"
   ]
  },
  {
   "cell_type": "markdown",
   "metadata": {},
   "source": [
    "Before we draw the sankey, we need to tell it what colours we want each flow to be. That can be done by defining a Palette. A fwe colours are determined aleady. Add a few more to make the Sankey more interesting."
   ]
  },
  {
   "cell_type": "code",
   "execution_count": 11,
   "metadata": {
    "collapsed": true
   },
   "outputs": [],
   "source": [
    "from collections import defaultdict\n",
    "palette = defaultdict(lambda: '#999')\n",
    "palette['Coal'] = 'black'\n",
    "palette['Electricity'] = 'yellow'\n"
   ]
  },
  {
   "cell_type": "markdown",
   "metadata": {},
   "source": [
    "Now we are ready to plot the sankey."
   ]
  },
  {
   "cell_type": "code",
   "execution_count": 14,
   "metadata": {
    "collapsed": false
   },
   "outputs": [],
   "source": [
    "show_sankey(vd, dataset, palette=palette)\n",
    "# If you want to save the Sankey to the local directory. Just add the "
   ]
  },
  {
   "cell_type": "markdown",
   "metadata": {},
   "source": [
    "You can adjust the size and shape of the diagram by definining a height and width ( in pixels)"
   ]
  },
  {
   "cell_type": "code",
   "execution_count": 15,
   "metadata": {
    "collapsed": true
   },
   "outputs": [],
   "source": [
    "show_sankey(vd, dataset, width=900, height=600, palette=palette)"
   ]
  },
  {
   "cell_type": "markdown",
   "metadata": {},
   "source": [
    "If you want to add save the Sankey to the local directory. You can, using the code below. The snankey can be saved in .svg and .png format"
   ]
  },
  {
   "cell_type": "code",
   "execution_count": null,
   "metadata": {
    "collapsed": true
   },
   "outputs": [],
   "source": [
    "show_sankey(vd, dataset, width=900, height=600,palette=palette).auto_save_svg('UK_Sankey.svg')\n",
    "show_sankey(vd, dataset, width=900, height=600,palette=palette).auto_save_png('UK_Sankey.png')\n"
   ]
  }
 ],
 "metadata": {
  "kernelspec": {
   "display_name": "Python 3",
   "language": "python",
   "name": "python3"
  },
  "language_info": {
   "codemirror_mode": {
    "name": "ipython",
    "version": 3
   },
   "file_extension": ".py",
   "mimetype": "text/x-python",
   "name": "python",
   "nbconvert_exporter": "python",
   "pygments_lexer": "ipython3",
   "version": "3.6.0"
  },
  "widgets": {
   "state": {
    "abc423980f9140c6af3109a707ebd73e": {
     "views": [
      {
       "cell_index": 20
      }
     ]
    },
    "bf6ca4d45ad14dd7bec691b9bf2fe4f2": {
     "views": [
      {
       "cell_index": 18
      }
     ]
    }
   },
   "version": "1.2.0"
  }
 },
 "nbformat": 4,
 "nbformat_minor": 0
}
