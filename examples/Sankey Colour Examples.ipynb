{
 "cells": [
  {
   "cell_type": "markdown",
   "metadata": {},
   "source": [
    "## Create Colourful Sankey Diagrams\n",
    "In this exercise we will look at how to use colours in the sankey diagram. We have already seen how to use a palette, but in this exercise we will also create a Sankey where the intensity of the colour is proportional to a numerical value"
   ]
  },
  {
   "cell_type": "markdown",
   "metadata": {},
   "source": [
    "First step is to import all the requried packages and data"
   ]
  },
  {
   "cell_type": "code",
   "execution_count": 77,
   "metadata": {
    "collapsed": true
   },
   "outputs": [],
   "source": [
    "import pandas as pd\n",
    "import numpy as np\n",
    "%matplotlib inline\n",
    "from sankeyview import *\n",
    "from sankeyview.jupyter import show_sankey\n",
    "df1 = pd.read_csv('Colour_example.csv')#, index_col=0\n"
   ]
  },
  {
   "cell_type": "markdown",
   "metadata": {},
   "source": [
    "Now take a look at the dataset we are using"
   ]
  },
  {
   "cell_type": "code",
   "execution_count": 78,
   "metadata": {
    "collapsed": false
   },
   "outputs": [
    {
     "name": "stdout",
     "output_type": "stream",
     "text": [
      "    Unnamed: 0    source          target  value  Energy intensity  Enjoyment  \\\n",
      "0            0  Activity  Employment Job    2.5                35         70   \n",
      "1            1  Activity  Employment Job    4.5                20         80   \n",
      "2            2  Activity  Employment Job    8.0                 5         60   \n",
      "3            3  Activity  Employment Job    1.0                 5         35   \n",
      "4            4  Activity  Employment Job    8.0                30         30   \n",
      "5            5  Activity  Employment Job    1.0                35         60   \n",
      "6            6  Activity  Employment Job    3.0                40         10   \n",
      "7            7  Activity  Employment Job    2.0                40         50   \n",
      "8            8  Activity  Employment Job    6.0                 5         60   \n",
      "9            9  Activity  Employment Job   12.0                45         10   \n",
      "10          10  Activity  Employment Job    4.5                20         70   \n",
      "11          11  Activity  Employment Job    9.0                10         60   \n",
      "12          12  Activity  Employment Job    7.5                50         15   \n",
      "13          13  Activity  Employment Job    1.5                35         60   \n",
      "14          14  Activity  Employment Job    1.5                50         10   \n",
      "15          15  Activity  Employment Job   11.0                55         45   \n",
      "16          16  Activity  Employment Job    2.0                45         70   \n",
      "17          17  Activity  Employment Job    7.5                10         60   \n",
      "18          18  Activity  Employment Job    1.5                90         10   \n",
      "19          19  Activity  Employment Job    2.0                40         40   \n",
      "20          20  Activity  Employment Job    3.0                35         70   \n",
      "21          21  Activity  Employment Job    9.0                15         60   \n",
      "22          22  Activity  Employment Job    9.0                15         60   \n",
      "23          23  Activity  Employment Job    3.0                60         20   \n",
      "24          24  Activity  Employment Job    0.0                 0          0   \n",
      "\n",
      "   Employment Job    Activity  \n",
      "0         Student      Eating  \n",
      "1         Student    Relaxing  \n",
      "2         Student    Sleeping  \n",
      "3         Student  Travelling  \n",
      "4         Student     Working  \n",
      "5         Trainee      Eating  \n",
      "6         Trainee  Travelling  \n",
      "7         Trainee    Relaxing  \n",
      "8         Trainee    Sleeping  \n",
      "9         Trainee     Working  \n",
      "10  Administrator    Relaxing  \n",
      "11  Administrator    Sleeping  \n",
      "12  Administrator     Working  \n",
      "13  Administrator      Eating  \n",
      "14  Administrator  Travelling  \n",
      "15        Manager     Working  \n",
      "16        Manager      Eating  \n",
      "17        Manager    Sleeping  \n",
      "18        Manager  Travelling  \n",
      "19        Manager    Relaxing  \n",
      "20      Pensioner      Eating  \n",
      "21      Pensioner    Relaxing  \n",
      "22      Pensioner    Sleeping  \n",
      "23      Pensioner  Travelling  \n",
      "24      Pensioner     Working  \n"
     ]
    }
   ],
   "source": [
    "print(df1)\n",
    "dataset = Dataset(df1)"
   ]
  },
  {
   "cell_type": "markdown",
   "metadata": {},
   "source": [
    "We now define the partitions of the data. Do not worry too much about this."
   ]
  },
  {
   "cell_type": "code",
   "execution_count": 79,
   "metadata": {
    "collapsed": false
   },
   "outputs": [],
   "source": [
    "partition_attribute = Partition.Simple(attribute, [ # TO RICK: I am not sure I understand what Simon was doign here, maybe you can make this cleaner?\n",
    " (df.loc[0, attribute], (df.loc[0, attribute],)),\n",
    " (df.loc[1, attribute], (df.loc[1, attribute],)),\n",
    " (df.loc[2, attribute], (df.loc[2, attribute],)),\n",
    " (df.loc[3, attribute], (df.loc[3, attribute],)),\n",
    " (df.loc[4, attribute], (df.loc[4, attribute],)),\n",
    "])\n",
    "\n",
    "\n",
    "partition_activity = np.unique(df1['Activity'])"
   ]
  },
  {
   "cell_type": "markdown",
   "metadata": {},
   "source": [
    "We then go on to define the structure of our sankey. We define nodes, bundles and the order. In this case its pretty straightforward"
   ]
  },
  {
   "cell_type": "code",
   "execution_count": 80,
   "metadata": {
    "collapsed": false
   },
   "outputs": [],
   "source": [
    "\n",
    "nodes = {\n",
    "    'Activity': ProcessGroup(['Activity'], default_grouping),\n",
    "    attribute: ProcessGroup([attribute], partition_attribute),\n",
    "}\n",
    "\n",
    "bundles = [\n",
    "    Bundle('Activity', attribute),\n",
    "]\n",
    "\n",
    "ordering = [\n",
    "    ['Activity'],\n",
    "    [attribute],\n",
    "]\n",
    "\n",
    "flow_partition = partition_attribute\n",
    "#flow_partition = partition_withwho\n",
    "\n",
    "\n"
   ]
  },
  {
   "cell_type": "markdown",
   "metadata": {},
   "source": [
    "Now we will plot a sanky that shows the share of time dedicated to each activity by each type of person. "
   ]
  },
  {
   "cell_type": "code",
   "execution_count": 81,
   "metadata": {
    "collapsed": true
   },
   "outputs": [],
   "source": [
    "sdd = SankeyDefinition(nodes, bundles, ordering)\n",
    "show_sankey(sdd, dataset, width=1100, height=700,  align_link_types=False, # Set to false\n",
    "            margins=dict(left=250, right=250))"
   ]
  },
  {
   "cell_type": "markdown",
   "metadata": {},
   "source": [
    "We can start using colour by specifying that we want to partition the flows according to type of person. Notice that this time we are using a pre-determined palette. You can find all sorts of palettes in this webpage. ## rick? where?"
   ]
  },
  {
   "cell_type": "code",
   "execution_count": 74,
   "metadata": {
    "collapsed": false
   },
   "outputs": [],
   "source": [
    "sdd = SankeyDefinition(nodes, bundles, ordering, flow_partition=partition_attribute)\n",
    "\n",
    "show_sankey(sdd, dataset, width=1100, height=700,  palette='Set2_8', align_link_types=False, # Set to false\n",
    "            margins=dict(left=250, right=250))"
   ]
  },
  {
   "cell_type": "markdown",
   "metadata": {},
   "source": [
    "Now, if we want to make the colour of the flow to be proprtional to a numerical value. We need to use the functions \"agg_measures\" and \"hue\".  \n",
    "\"hue=\": the name of the variable that you want to display in colour\n",
    "\"agg_measures=\" specifies how the flows are to be aggregated when it comes to colour. In this case, the colour a flow is given by the average value for this flow. Other aggregation measures possible are 'sum' ... rick?\n",
    "\n",
    "You can try to make the colour proportional to Enjoyment"
   ]
  },
  {
   "cell_type": "code",
   "execution_count": 82,
   "metadata": {
    "collapsed": false
   },
   "outputs": [],
   "source": [
    "show_sankey(sdd, dataset, width=1100, height=700, agg_measures={'Energy intensity': 'mean'}, hue='Energy intensity', align_link_types=False,\n",
    "            margins=dict(left=250, right=250))"
   ]
  },
  {
   "cell_type": "markdown",
   "metadata": {},
   "source": [
    "How to change the defaul palette for colour intensity?"
   ]
  },
  {
   "cell_type": "markdown",
   "metadata": {},
   "source": [
    "How to generate the \"colour scale\""
   ]
  }
 ],
 "metadata": {
  "kernelspec": {
   "display_name": "Python 3",
   "language": "python",
   "name": "python3"
  },
  "language_info": {
   "codemirror_mode": {
    "name": "ipython",
    "version": 3
   },
   "file_extension": ".py",
   "mimetype": "text/x-python",
   "name": "python",
   "nbconvert_exporter": "python",
   "pygments_lexer": "ipython3",
   "version": "3.6.0"
  },
  "widgets": {
   "state": {
    "243d87a574604229879737baba501413": {
     "views": [
      {
       "cell_index": 12
      }
     ]
    },
    "94c595d3a16b4d0d8af54f4afaa737e6": {
     "views": [
      {
       "cell_index": 10
      }
     ]
    },
    "d89e8b3bb5fa41a3b7089c0967e2d86c": {
     "views": [
      {
       "cell_index": 14
      }
     ]
    }
   },
   "version": "1.2.0"
  }
 },
 "nbformat": 4,
 "nbformat_minor": 2
}
