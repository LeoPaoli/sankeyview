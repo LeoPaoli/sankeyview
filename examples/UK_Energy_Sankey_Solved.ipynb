{
 "cells": [
  {
   "cell_type": "markdown",
   "metadata": {},
   "source": [
    "## Draw Sankey of UK Energy System"
   ]
  },
  {
   "cell_type": "markdown",
   "metadata": {},
   "source": [
    "The first step involves importing all the necessary packages to crete the Sankey"
   ]
  },
  {
   "cell_type": "code",
   "execution_count": 1,
   "metadata": {
    "collapsed": false
   },
   "outputs": [],
   "source": [
    "import pandas as pd\n",
    "from sankeyview import *\n",
    "from sankeyview.jupyter import show_sankey\n",
    "#from trace_sankey_helpers import show_sample, show_variance, flows_from_trace #, show_sankey"
   ]
  },
  {
   "cell_type": "markdown",
   "metadata": {},
   "source": [
    "Then we proceed to load the data that we want to draw. In one worksheet we have all the flows, while in the other worksheet we have information about each process in the diagram."
   ]
  },
  {
   "cell_type": "code",
   "execution_count": 3,
   "metadata": {
    "collapsed": false
   },
   "outputs": [],
   "source": [
    "FILENAME = './UK_Energy_Sankey_data.xlsx'\n",
    "processes = pd.read_excel(FILENAME, sheetname='Processes', index_col=0)\n",
    "flows = pd.read_excel(FILENAME, sheetname='Flows')\n"
   ]
  },
  {
   "cell_type": "markdown",
   "metadata": {
    "collapsed": false
   },
   "source": [
    "We need to make sure that there is no repetition of flows in the data. Therefore we group and sum all flows."
   ]
  },
  {
   "cell_type": "code",
   "execution_count": 4,
   "metadata": {
    "collapsed": false
   },
   "outputs": [],
   "source": [
    "flows = flows.groupby(['source', 'target', 'type'], as_index=False).sum()"
   ]
  },
  {
   "cell_type": "markdown",
   "metadata": {},
   "source": [
    "We now create the variable which will be used to plot the diagram"
   ]
  },
  {
   "cell_type": "code",
   "execution_count": 17,
   "metadata": {
    "collapsed": false
   },
   "outputs": [],
   "source": [
    "dataset = Dataset(flows, dim_process=processes)"
   ]
  },
  {
   "cell_type": "code",
   "execution_count": 18,
   "metadata": {
    "collapsed": false
   },
   "outputs": [],
   "source": [
    "source_grouping = Partition.Simple(\n",
    "    'process',\n",
    "    ['Gas',\n",
    "        'Liquid fuel',\n",
    "    'Coal',\n",
    " 'Nuclear',\n",
    " 'Solid biomass & Waste',\n",
    " 'Renewable',\n",
    "'Primary Electricity',\n",
    "          'Heat',\n",
    "     'Electricity'\n",
    "])\n",
    "\n",
    "sector_grouping = Partition.Simple(\n",
    "    'process',\n",
    "    ['Road','Rail','Navigation','Aviation',\n",
    "'Industry',\n",
    "'Commercial and public services',\n",
    "'Residential',\n",
    "'Agriculture/forestry'\n",
    "])\n",
    "\n",
    "EndUse_grouping =Partition.Simple(\n",
    "    'process',\n",
    "    ['Mechanical',\n",
    "    'Process Heat-Direct',\n",
    "     'Process Heat-Boiler',\n",
    "     'Space Heat',\n",
    "     'Hot Water',\n",
    "     \n",
    "     'Space Cooling',\n",
    "     'Process Cooling',\n",
    "     'Light',\n",
    "     'Information'\n",
    "])\n",
    "\n",
    "device_grouping1 = Partition.Simple(\n",
    "    'process',\n",
    "    ['Boiler','Burner','Electric Heater','Spark Ignition Engine',\n",
    "     'Diesel Engine',\n",
    "     'Gas Turbine',\n",
    "     'Electric Motor',    \n",
    "    'Cooler',\n",
    "     'Light Device',\n",
    "     'Electronics'\n",
    "    ])\n",
    "useful_grouping = Partition.Simple(\n",
    "    'process', ['Heating',\n",
    "                            'Motion',\n",
    "\n",
    "        'Cool',\n",
    "\n",
    "'Illumination',\n",
    "'Information',\n",
    "        'Loss'\n",
    "    ])\n",
    "trans_grouping = Partition.Simple(\n",
    "    'process', ['Transformation','Heat Plant','Power Plant'])"
   ]
  },
  {
   "cell_type": "code",
   "execution_count": 19,
   "metadata": {
    "collapsed": false
   },
   "outputs": [],
   "source": [
    "# I should make this a two layer diagram... but I will have to ask rick the synthax for it\n",
    "# Also, i probably need to learn how to use his adjustment software.\n",
    "default_grouping =  Partition.Simple('process', processes.index.values)\n",
    "\n",
    "nodes = {\n",
    "   # 'Ren':        Node(),\n",
    "   # 'a':          Node(),\n",
    "   # 'Biomass & Waste':           Node(selection=\"Level == 10\" ),\n",
    "    'inputs':           ProcessGroup(selection=\"Level == 1\", partition=source_grouping),\n",
    "     'Power Plants':           ProcessGroup(selection=\"Level == 11\",partition=trans_grouping ),\n",
    "    #'Sector':           ProcessGroup(selection='Level == 3', partition=device_grouping),\n",
    "    #'Transport':           ProcessGroup(selection='Level == 31'),    \n",
    "   #'End-use':          ProcessGroup(selection='Level == 4', partition=EndUse_grouping),\n",
    "    'Devices':      ProcessGroup(selection='Level == 2', partition=device_grouping1),\n",
    "    'Useful':      ProcessGroup(selection='Level == 3', partition=useful_grouping)\n",
    "\n",
    "   # 'loss':      Node(selection='Level == 21', grouping=device_grouping), \n",
    "    \n",
    "}\n",
    "order = [\n",
    "    ['inputs'],\n",
    "    ['Power Plants'],\n",
    "    ['Devices'],\n",
    "    ['Useful']\n",
    "]\n",
    "bundles = [\n",
    "    Bundle('inputs', 'Devices'),\n",
    "    Bundle('inputs', 'Power Plants'),\n",
    "    Bundle('Power Plants', 'Devices'),\n",
    "    Bundle('Power Plants', 'Useful'),\n",
    "    Bundle('Devices','Useful')\n",
    "]\n",
    "\n",
    "vd = SankeyDefinition(nodes, bundles, order,flow_partition= dataset.partition('type'))"
   ]
  },
  {
   "cell_type": "code",
   "execution_count": 20,
   "metadata": {
    "collapsed": true
   },
   "outputs": [],
   "source": [
    "#from palettable import qualitative\n",
    "#palette = qualitative.Pastel1_8.hex_colors\n",
    "from collections import defaultdict\n",
    "palette = defaultdict(lambda: '#999')\n",
    "palette['Coal'] = 'black'\n",
    "palette['Liquid fuel'] = 'red'\n",
    "palette['Gas'] = 'blue'\n",
    "palette['Solid biomass & Waste'] = 'Green'\n",
    "palette['Primary Electricity'] = 'Green'\n",
    "palette['Biogas'] = 'Green'\n",
    "palette['Renewable'] = 'Green'\n",
    "palette['Nuclear'] = 'darkviolet'\n",
    "palette['Wind'] = 'aquamarine'\n",
    "palette['Hydro'] = 'aquamarine'\n",
    "palette['Solar PV'] = 'aquamarine'\n",
    "palette['Waste'] = 'black'\n",
    "palette['Electricity'] = 'yellow'\n",
    "palette['Heat'] = 'orange'\n",
    "palette['Loss'] = 'gray'\n",
    "palette['Renewable Heat'] = 'orange'\n",
    "palette['Fuel'] = 'black'\n"
   ]
  },
  {
   "cell_type": "code",
   "execution_count": 21,
   "metadata": {
    "collapsed": false
   },
   "outputs": [],
   "source": [
    "show_sankey(vd, dataset, width=900, height=600,palette=palette).auto_save_svg('Uk_Sankey_Template.svg')"
   ]
  }
 ],
 "metadata": {
  "kernelspec": {
   "display_name": "Python 3",
   "language": "python",
   "name": "python3"
  },
  "language_info": {
   "codemirror_mode": {
    "name": "ipython",
    "version": 3
   },
   "file_extension": ".py",
   "mimetype": "text/x-python",
   "name": "python",
   "nbconvert_exporter": "python",
   "pygments_lexer": "ipython3",
   "version": "3.6.0"
  }
 },
 "nbformat": 4,
 "nbformat_minor": 0
}
